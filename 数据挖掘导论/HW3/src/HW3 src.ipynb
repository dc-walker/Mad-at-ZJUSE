{
 "cells": [
  {
   "attachments": {},
   "cell_type": "markdown",
   "id": "3c25316b",
   "metadata": {},
   "source": [
    "# Homework 3\n",
    "\n",
    "> 编辑日期：2023/06/04\n",
    "\n",
    "## 实验要求\n",
    "\n",
    "- 自行寻找数据集，自行实现Aprioi或FP-Tree算法之一（也可以都实现），挖掘该数据集中的频繁模式。\n",
    "\n",
    "- 寻找合适的指标（如卡方、lift和课本上给出的其他指标）分析数据集的Imbalance Ratio，并进而评价找出的最典型的数个模式的合理性。\n",
    "\n",
    "- 如果可能的话，可进一步给出应用这些模式的建议。"
   ]
  },
  {
   "attachments": {},
   "cell_type": "markdown",
   "id": "bfa9dad5",
   "metadata": {},
   "source": [
    "## 1 Data Source\n",
    "\n",
    "- 数据集 \"[The Bread Basket](https://www.kaggle.com/datasets/mittalvasu95/the-bread-basket)\" 来自 Kaggle，描述了爱丁堡面包店 \"The Bread Basket\" 的客户在网上订购面包的信息。\n",
    "\n",
    "- 数据集共记录了 2w+ 条交易商品记录，每条记录使用 5 个字段进行描述，相关信息如下：\n",
    "\n",
    "    - `Transaction` 字段记录了该记录所属的交易编号\n",
    "\n",
    "    - `Item` 字段记录了该记录涉及的商品名称\n",
    "\n",
    "    - `date_time` 字段以 `dd-mm-yyyy hh:mm` 格式记录了订单完成的时间\n",
    "\n",
    "    - `period_day` 字段记录了订单创建的时间\n",
    "\n",
    "    - `weekday_weekend` 字段记录了本次交易发生于工作日/非工作日"
   ]
  },
  {
   "cell_type": "code",
   "execution_count": 45,
   "id": "450613c7",
   "metadata": {},
   "outputs": [
    {
     "name": "stdout",
     "output_type": "stream",
     "text": [
      "<class 'pandas.core.frame.DataFrame'>\n",
      "RangeIndex: 20507 entries, 0 to 20506\n",
      "Data columns (total 5 columns):\n",
      " #   Column           Non-Null Count  Dtype \n",
      "---  ------           --------------  ----- \n",
      " 0   Transaction      20507 non-null  int64 \n",
      " 1   Item             20507 non-null  object\n",
      " 2   date_time        20507 non-null  object\n",
      " 3   period_day       20507 non-null  object\n",
      " 4   weekday_weekend  20507 non-null  object\n",
      "dtypes: int64(1), object(4)\n",
      "memory usage: 801.2+ KB\n",
      "\n",
      "数据基本格式如下：\n"
     ]
    },
    {
     "data": {
      "text/html": [
       "<div>\n",
       "<style scoped>\n",
       "    .dataframe tbody tr th:only-of-type {\n",
       "        vertical-align: middle;\n",
       "    }\n",
       "\n",
       "    .dataframe tbody tr th {\n",
       "        vertical-align: top;\n",
       "    }\n",
       "\n",
       "    .dataframe thead th {\n",
       "        text-align: right;\n",
       "    }\n",
       "</style>\n",
       "<table border=\"1\" class=\"dataframe\">\n",
       "  <thead>\n",
       "    <tr style=\"text-align: right;\">\n",
       "      <th></th>\n",
       "      <th>Transaction</th>\n",
       "      <th>Item</th>\n",
       "      <th>date_time</th>\n",
       "      <th>period_day</th>\n",
       "      <th>weekday_weekend</th>\n",
       "    </tr>\n",
       "  </thead>\n",
       "  <tbody>\n",
       "    <tr>\n",
       "      <th>0</th>\n",
       "      <td>1</td>\n",
       "      <td>Bread</td>\n",
       "      <td>30-10-2016 09:58</td>\n",
       "      <td>morning</td>\n",
       "      <td>weekend</td>\n",
       "    </tr>\n",
       "    <tr>\n",
       "      <th>1</th>\n",
       "      <td>2</td>\n",
       "      <td>Scandinavian</td>\n",
       "      <td>30-10-2016 10:05</td>\n",
       "      <td>morning</td>\n",
       "      <td>weekend</td>\n",
       "    </tr>\n",
       "    <tr>\n",
       "      <th>2</th>\n",
       "      <td>2</td>\n",
       "      <td>Scandinavian</td>\n",
       "      <td>30-10-2016 10:05</td>\n",
       "      <td>morning</td>\n",
       "      <td>weekend</td>\n",
       "    </tr>\n",
       "    <tr>\n",
       "      <th>3</th>\n",
       "      <td>3</td>\n",
       "      <td>Hot chocolate</td>\n",
       "      <td>30-10-2016 10:07</td>\n",
       "      <td>morning</td>\n",
       "      <td>weekend</td>\n",
       "    </tr>\n",
       "    <tr>\n",
       "      <th>4</th>\n",
       "      <td>3</td>\n",
       "      <td>Jam</td>\n",
       "      <td>30-10-2016 10:07</td>\n",
       "      <td>morning</td>\n",
       "      <td>weekend</td>\n",
       "    </tr>\n",
       "    <tr>\n",
       "      <th>5</th>\n",
       "      <td>3</td>\n",
       "      <td>Cookies</td>\n",
       "      <td>30-10-2016 10:07</td>\n",
       "      <td>morning</td>\n",
       "      <td>weekend</td>\n",
       "    </tr>\n",
       "    <tr>\n",
       "      <th>6</th>\n",
       "      <td>4</td>\n",
       "      <td>Muffin</td>\n",
       "      <td>30-10-2016 10:08</td>\n",
       "      <td>morning</td>\n",
       "      <td>weekend</td>\n",
       "    </tr>\n",
       "    <tr>\n",
       "      <th>7</th>\n",
       "      <td>5</td>\n",
       "      <td>Coffee</td>\n",
       "      <td>30-10-2016 10:13</td>\n",
       "      <td>morning</td>\n",
       "      <td>weekend</td>\n",
       "    </tr>\n",
       "    <tr>\n",
       "      <th>8</th>\n",
       "      <td>5</td>\n",
       "      <td>Pastry</td>\n",
       "      <td>30-10-2016 10:13</td>\n",
       "      <td>morning</td>\n",
       "      <td>weekend</td>\n",
       "    </tr>\n",
       "    <tr>\n",
       "      <th>9</th>\n",
       "      <td>5</td>\n",
       "      <td>Bread</td>\n",
       "      <td>30-10-2016 10:13</td>\n",
       "      <td>morning</td>\n",
       "      <td>weekend</td>\n",
       "    </tr>\n",
       "  </tbody>\n",
       "</table>\n",
       "</div>"
      ],
      "text/plain": [
       "   Transaction           Item         date_time period_day weekday_weekend\n",
       "0            1          Bread  30-10-2016 09:58    morning         weekend\n",
       "1            2   Scandinavian  30-10-2016 10:05    morning         weekend\n",
       "2            2   Scandinavian  30-10-2016 10:05    morning         weekend\n",
       "3            3  Hot chocolate  30-10-2016 10:07    morning         weekend\n",
       "4            3            Jam  30-10-2016 10:07    morning         weekend\n",
       "5            3        Cookies  30-10-2016 10:07    morning         weekend\n",
       "6            4         Muffin  30-10-2016 10:08    morning         weekend\n",
       "7            5         Coffee  30-10-2016 10:13    morning         weekend\n",
       "8            5         Pastry  30-10-2016 10:13    morning         weekend\n",
       "9            5          Bread  30-10-2016 10:13    morning         weekend"
      ]
     },
     "execution_count": 45,
     "metadata": {},
     "output_type": "execute_result"
    }
   ],
   "source": [
    "# 读取数据集\n",
    "import pandas as pd\n",
    "\n",
    "data_frame = pd.read_csv(\"./bread basket.csv\")\n",
    "data_frame.info()\n",
    "\n",
    "print(\"\\n数据基本格式如下：\")\n",
    "data_frame.head(10)"
   ]
  },
  {
   "attachments": {},
   "cell_type": "markdown",
   "id": "18a90062",
   "metadata": {},
   "source": [
    "- 数据集共包含了 9465 条交易信息，同时涵盖了 94 种不同的商品："
   ]
  },
  {
   "cell_type": "code",
   "execution_count": 46,
   "id": "7fd9b7d1",
   "metadata": {},
   "outputs": [
    {
     "name": "stdout",
     "output_type": "stream",
     "text": [
      "交易总量： 9465\n",
      "---------------------\n",
      "共涉及商品  94 种，详情如下：\n"
     ]
    },
    {
     "data": {
      "text/plain": [
       "Item\n",
       "Coffee            5471\n",
       "Bread             3325\n",
       "Tea               1435\n",
       "Cake              1025\n",
       "Pastry             856\n",
       "                  ... \n",
       "Bacon                1\n",
       "Gift voucher         1\n",
       "Olum & polenta       1\n",
       "Raw bars             1\n",
       "Polenta              1\n",
       "Name: count, Length: 94, dtype: int64"
      ]
     },
     "execution_count": 46,
     "metadata": {},
     "output_type": "execute_result"
    }
   ],
   "source": [
    "print(\"交易总量：\", data_frame['Transaction'].nunique())\n",
    "print(\"---------------------\")\n",
    "\n",
    "print(\"共涉及商品 \", data_frame['Item'].nunique(), \"种，详情如下：\")\n",
    "data_frame['Item'].value_counts()"
   ]
  },
  {
   "attachments": {},
   "cell_type": "markdown",
   "id": "b9248f8c",
   "metadata": {},
   "source": [
    "下面简要使用柱状图对商品选购概况进行可视化：\n",
    "\n",
    "> - 其实从上面的统计信息中不难发现，有不少 Item 只被选购过 1 次（显然未超过阈值）\n",
    ">\n",
    "> - 为了让可视化结果不那么阴间，此处仅对销量 Top 30 的产品信息进行展示"
   ]
  },
  {
   "cell_type": "code",
   "execution_count": 47,
   "id": "355338b9",
   "metadata": {},
   "outputs": [
    {
     "data": {
      "image/png": "[encoded data removed]",
      "text/plain": [
       "<Figure size 2000x400 with 1 Axes>"
      ]
     },
     "metadata": {},
     "output_type": "display_data"
    }
   ],
   "source": [
    "import seaborn as sns\n",
    "import matplotlib.pyplot as plt\n",
    "\n",
    "sns.set_style(\"darkgrid\")\n",
    "\n",
    "plt.figure(figsize=(20,4))\n",
    "sns.barplot(x = data_frame.Item.value_counts().head(30).index, \n",
    "            y = data_frame.Item.value_counts().head(30).values)\n",
    "plt.xlabel('Items', size=15)\n",
    "plt.xticks(rotation=40)\n",
    "plt.ylabel('Number', size=15)\n",
    "plt.yticks(size=13)\n",
    "plt.show()"
   ]
  },
  {
   "attachments": {},
   "cell_type": "markdown",
   "id": "97f89bb3",
   "metadata": {},
   "source": [
    "在本次分析过程中，我们仅对 Item 之间的频繁模式进行挖掘。\n",
    "\n",
    "下面我们丢弃无关属性 `date_time`, `period_day`, `weekday_weekend` 并对属于同一笔交易的商品进行合并："
   ]
  },
  {
   "cell_type": "code",
   "execution_count": 48,
   "id": "18233059",
   "metadata": {},
   "outputs": [],
   "source": [
    "data = []\n",
    "\n",
    "for t_id in data_frame['Transaction'].unique():\n",
    "    # 筛选 transaction_id 相同的记录\n",
    "    data.append(data_frame[data_frame['Transaction'] == t_id]['Item'].unique().tolist())"
   ]
  },
  {
   "attachments": {},
   "cell_type": "markdown",
   "id": "522d32b3",
   "metadata": {},
   "source": [
    "重新整合后得到的 `data` 是一个二维数组，结构如下："
   ]
  },
  {
   "cell_type": "code",
   "execution_count": 49,
   "id": "cf39faef",
   "metadata": {},
   "outputs": [
    {
     "name": "stdout",
     "output_type": "stream",
     "text": [
      "[\n",
      "   ['Bread'] ,\n",
      "   ['Scandinavian'] ,\n",
      "   ['Hot chocolate', 'Jam', 'Cookies'] ,\n",
      "   ['Muffin'] ,\n",
      "   ['Coffee', 'Pastry', 'Bread'] ,\n",
      "   ['Medialuna', 'Pastry', 'Muffin'] ,\n",
      "   ['Medialuna', 'Pastry', 'Coffee', 'Tea'] ,\n",
      "   ['Pastry', 'Bread'] ,\n",
      "   ['Bread', 'Muffin'] ,\n",
      "   ['Scandinavian', 'Medialuna'] ,\n",
      "    ...\n",
      "]\n"
     ]
    }
   ],
   "source": [
    "print(\"[\")\n",
    "\n",
    "for i in range(0, 10):\n",
    "    print(\"  \", data[i], \",\")\n",
    "\n",
    "print(\"    ...\")\n",
    "print(\"]\")"
   ]
  },
  {
   "attachments": {},
   "cell_type": "markdown",
   "id": "203f30b4",
   "metadata": {},
   "source": [
    "## 2 Apriori 算法实现\n",
    "\n",
    "- Apriori 算法是一种用于挖掘关联规则的算法，它的基本思想是利用频繁项集和支持度来发现数据集中的关联性。通过逐层扫描数据集，生成频繁项集，并由此推导出高置信度的关联规则。\n",
    "\n",
    "- 具体来说，该算法需要设定一个最小支持度阈值，对于每个项集，统计其在所有事务中的出现次数，只有出现次数不小于阈值的项集才能称为频繁项集。然后，用频繁项集来生成更大的项集，直到无法继续生成为止。\n",
    "\n",
    "- 对算法过程的描述如下：\n",
    "\n",
    "    1. 令 `k = 1`，扫描数据库并收集所有满足 `minimum support` 的 Item 以构建 `frequent 1-itemset`\n",
    "\n",
    "    2. 从长度为 `frequent k-itemset` 中生成 `frequent (k+1)-itemset`\n",
    "\n",
    "    3. 令 `k = k+1` 并重复步骤2，直至不能继续产生 `frequent (k+1)-itemset`\n",
    "\n",
    "下面是对 Apriori 算法的一个实现：\n",
    "    "
   ]
  },
  {
   "cell_type": "code",
   "execution_count": 50,
   "id": "5b57e310",
   "metadata": {},
   "outputs": [],
   "source": [
    "class Apriori(object):\n",
    "    def __init__(self, transactions, min_sup):\n",
    "        self.transactions = transactions\n",
    "        # 实际的 minimum support = min_sup/100\n",
    "        self.min_sup = min_sup\n",
    "        self.support_hash = {}\n",
    "\n",
    "\n",
    "    # 生成 frequent 1-itemset\n",
    "    def gen_freq_1(self):\n",
    "        # 1-candidate itemset\n",
    "        C1 = []\n",
    "        # transaction 中的每一种 item 都是 1-candidate itemset 的成员\n",
    "        for t in self.transactions:  \n",
    "            for item in t:  \n",
    "                if [item] not in C1: \n",
    "                    C1.append([item])  \n",
    "        C1 = [frozenset(item) for item in C1]\n",
    "\n",
    "        # 1-itemset\n",
    "        L1 = []\n",
    "        for item in C1: # 统计每个 candidate 的出现次数\n",
    "            support = sum(1 for t in self.transactions if item.issubset(t)) / len(self.transactions) * 100\n",
    "            # 选取超过 minimum support 的 candidate\n",
    "            if support >= self.min_sup:\n",
    "                L1.append(item)\n",
    "                self.support_hash[item] = support\n",
    "        L1.sort()\n",
    "        return L1\n",
    "    \n",
    "    def gen_freq_k(self, L):\n",
    "        # k+1-candidate itemset\n",
    "        Ck = []\n",
    "        k = len(L[0])\n",
    "        # 计self-joining (L*L)\n",
    "        for itemset1 in L:\n",
    "            for itemset2 in L:\n",
    "                if itemset1 != itemset2:\n",
    "                    union = itemset1 | itemset2\n",
    "                    if len(union) == k+1 and union not in Ck:\n",
    "                        Ck.append(union)\n",
    "        Ck = [frozenset(item) for item in Ck]\n",
    "        # k+1_itemset\n",
    "        Lk = []\n",
    "        for item in Ck:\n",
    "            support = sum(1 for t in self.transactions if item.issubset(t)) / len(self.transactions) * 100\n",
    "            if support >= self.min_sup:\n",
    "                Lk.append(item)\n",
    "                self.support_hash[item] = support\n",
    "        Lk.sort()\n",
    "        return Lk\n",
    "\n",
    "    # Apriori 算法主循环\n",
    "    def apriori(self):\n",
    "        L = []\n",
    "        Lk = self.gen_freq_1()\n",
    "        # 当不能继续生成 k-itemset 时退出循环\n",
    "        while len(Lk) > 0:\n",
    "            L += Lk\n",
    "            Lk = self.gen_freq_k(Lk)\n",
    "        return L\n",
    "\n",
    "    # 频繁模式挖掘\n",
    "    def gen_pattern(self, min_conf):\n",
    "        L = self.apriori()\n",
    "        pattern = []\n",
    "        for item1 in L:\n",
    "            for item2 in L:\n",
    "                if item1 != item2 and item1.issubset(item2):\n",
    "                        # 支持度计算\n",
    "                        confidence = self.support_hash[item2] / self.support_hash[item1] * 100\n",
    "                        if confidence >= min_conf:\n",
    "                            pattern.append((item1, item2 - item1, confidence))\n",
    "        return pattern"
   ]
  },
  {
   "attachments": {},
   "cell_type": "markdown",
   "id": "b12bf1f5",
   "metadata": {},
   "source": [
    "### 2.1 (测试) 生成 Frequent Itemset\n",
    "\n",
    "我们尝试在数据集上应用算法生成 Frequent Itemset 以检验初步成果："
   ]
  },
  {
   "cell_type": "code",
   "execution_count": 51,
   "id": "65dee361",
   "metadata": {},
   "outputs": [
    {
     "name": "stdout",
     "output_type": "stream",
     "text": [
      "当 minimum support = 1% 时，产生的 frequent itemset 如下：\n",
      "[\n",
      "   frozenset({'Bread'}) ,\n",
      "   frozenset({'Scandinavian'}) ,\n",
      "   frozenset({'Hot chocolate'}) ,\n",
      "   frozenset({'Jam'}) ,\n",
      "   frozenset({'Cookies'}) ,\n",
      "   frozenset({'Muffin'}) ,\n",
      "   frozenset({'Coffee'}) ,\n",
      "   frozenset({'Pastry'}) ,\n",
      "   frozenset({'Medialuna'}) ,\n",
      "   frozenset({'Tea'}) ,\n",
      "   frozenset({'Mineral water'}) ,\n",
      "   frozenset({'Farm House'}) ,\n",
      "   frozenset({'Fudge'}) ,\n",
      "   frozenset({'Juice'}) ,\n",
      "   frozenset({'Hearty & Seasonal'}) ,\n",
      "   frozenset({'Soup'}) ,\n",
      "   frozenset({'Cake'}) ,\n",
      "   frozenset({'Coke'}) ,\n",
      "   frozenset({'Sandwich'}) ,\n",
      "   frozenset({'Alfajores'}) ,\n",
      "   frozenset({'Brownie'}) ,\n",
      "   frozenset({'Truffles'}) ,\n",
      "   frozenset({'Jammie Dodgers'}) ,\n",
      "   frozenset({'Tiffin'}) ,\n",
      "   frozenset({'Toast'}) ,\n",
      "   frozenset({'Scone'}) ,\n",
      "   frozenset({'Salad'}) ,\n",
      "   frozenset({'Chicken Stew'}) ,\n",
      "   frozenset({'Spanish Brunch'}) ,\n",
      "   frozenset({'Baguette'}) ,\n",
      "   frozenset({'Bread', 'Hot chocolate'}) ,\n",
      "   frozenset({'Bread', 'Cookies'}) ,\n",
      "   frozenset({'Bread', 'Coffee'}) ,\n",
      "   frozenset({'Bread', 'Pastry'}) ,\n",
      "   frozenset({'Bread', 'Medialuna'}) ,\n",
      "   frozenset({'Bread', 'Tea'}) ,\n",
      "   frozenset({'Bread', 'Cake'}) ,\n",
      "   frozenset({'Bread', 'Sandwich'}) ,\n",
      "   frozenset({'Bread', 'Alfajores'}) ,\n",
      "   frozenset({'Bread', 'Brownie'}) ,\n",
      "   frozenset({'Coffee', 'Hot chocolate'}) ,\n",
      "   frozenset({'Cake', 'Hot chocolate'}) ,\n",
      "   frozenset({'Cookies', 'Coffee'}) ,\n",
      "   frozenset({'Coffee', 'Muffin'}) ,\n",
      "   frozenset({'Pastry', 'Coffee'}) ,\n",
      "   frozenset({'Coffee', 'Medialuna'}) ,\n",
      "   frozenset({'Coffee', 'Tea'}) ,\n",
      "   frozenset({'Coffee', 'Juice'}) ,\n",
      "   frozenset({'Coffee', 'Soup'}) ,\n",
      "   frozenset({'Coffee', 'Cake'}) ,\n",
      "   frozenset({'Coffee', 'Sandwich'}) ,\n",
      "   frozenset({'Alfajores', 'Coffee'}) ,\n",
      "   frozenset({'Coffee', 'Brownie'}) ,\n",
      "   frozenset({'Coffee', 'Toast'}) ,\n",
      "   frozenset({'Coffee', 'Scone'}) ,\n",
      "   frozenset({'Coffee', 'Spanish Brunch'}) ,\n",
      "   frozenset({'Tea', 'Cake'}) ,\n",
      "   frozenset({'Tea', 'Sandwich'}) ,\n",
      "   frozenset({'Bread', 'Coffee', 'Pastry'}) ,\n",
      "   frozenset({'Bread', 'Coffee', 'Cake'}) ,\n",
      "   frozenset({'Coffee', 'Tea', 'Cake'}) ,\n",
      "]\n",
      "\n",
      "frequent itemset 概况：\n",
      "  len =  1 的 freq itemset 30 个\n",
      "  len =  2 的 freq itemset 28 个\n",
      "  len =  3 的 freq itemset 3 个\n"
     ]
    }
   ],
   "source": [
    "# minimum support = 1%\n",
    "test = Apriori(transactions=data, min_sup=1)\n",
    "\n",
    "print(\"当 minimum support = 1% 时，产生的 frequent itemset 如下：\")\n",
    "print(\"[\")\n",
    "count = [0, 0, 0]\n",
    "for s in test.apriori():\n",
    "    count[len(s)-1] += 1\n",
    "    print(\"  \", s, \",\")\n",
    "print(\"]\")\n",
    "\n",
    "print(\"\\nfrequent itemset 概况：\")\n",
    "for i in range(0, len(count)):\n",
    "    print(\"  len = \", i+1 , \"的 freq itemset\", count[i],\"个\")"
   ]
  },
  {
   "attachments": {},
   "cell_type": "markdown",
   "id": "437b1d28",
   "metadata": {},
   "source": [
    "### 2.2 频繁模式挖掘"
   ]
  },
  {
   "attachments": {},
   "cell_type": "markdown",
   "id": "012cd21a",
   "metadata": {},
   "source": [
    "对 `minimun support = 1%`, `minimum confidence = 70%` 的情况进行频繁模式挖掘："
   ]
  },
  {
   "cell_type": "code",
   "execution_count": 72,
   "id": "45bcb80e",
   "metadata": {},
   "outputs": [
    {
     "name": "stdout",
     "output_type": "stream",
     "text": [
      "min_support = 1%, min_confidence = 70%:\n",
      "-------------------------------------------------\n",
      "Item-1               Item-1               Conf(%) \n",
      "frozenset({'Toast'}) frozenset({'Coffee'}) 70.44\n"
     ]
    }
   ],
   "source": [
    "t_1_70 = Apriori(transactions=data, min_sup=1)\n",
    "\n",
    "print(\"min_support = 1%, min_confidence = 70%:\")\n",
    "print(\"-------------------------------------------------\")\n",
    "\n",
    "print('{0:<20}'.format(\"Item-1\"), '{0:<20}'.format(\"Item-1\"), '{0:<8}'.format(\"Conf(%)\"))\n",
    "for i in t_1_70.gen_pattern(min_conf=70):\n",
    "    print(i[0], i[1], '{:.2f}'.format(i[2]))"
   ]
  },
  {
   "attachments": {},
   "cell_type": "markdown",
   "id": "49629d60",
   "metadata": {},
   "source": [
    "> 可以发现在此限制下得到的模式有亿些少，下面对模式 `Toast + Coffee` 进行验证"
   ]
  },
  {
   "attachments": {},
   "cell_type": "markdown",
   "id": "b48cef7d",
   "metadata": {},
   "source": [
    "## 3 Pattern Evaluation\n",
    "\n",
    "### 3.1 Lift\n",
    "\n",
    "我们对购买 `Toast / Coffee` 的相关信息进行统计："
   ]
  },
  {
   "cell_type": "code",
   "execution_count": 84,
   "id": "8e7efe9c",
   "metadata": {},
   "outputs": [
    {
     "name": "stdout",
     "output_type": "stream",
     "text": [
      "统计结果为： [224, 94, 4304, 4843]\n"
     ]
    }
   ],
   "source": [
    "# 0 - T&C, 1 - OnltT, 2 - OnlyC, 3 - notBoth\n",
    "count_TC = [0, 0, 0, 0]\n",
    "\n",
    "for items in data:\n",
    "    flagT = 'Toast' in items\n",
    "    flagC = 'Coffee' in items\n",
    "    if flagT and flagC:\n",
    "        count_TC[0] += 1\n",
    "    elif flagT:\n",
    "        count_TC[1] += 1\n",
    "    elif flagC:\n",
    "        count_TC[2] += 1\n",
    "    else:\n",
    "        count_TC[3] += 1\n",
    "\n",
    "print(\"统计结果为：\", count_TC)"
   ]
  },
  {
   "attachments": {},
   "cell_type": "markdown",
   "id": "a2b655c0",
   "metadata": {},
   "source": [
    "统计结果如下表所示：\n",
    "\n",
    "| | Toast | Not Toast | Sum(row) |\n",
    "|:--|:--:|:--:|:--|\n",
    "| Coffee | 224 |4304 | 4528|\n",
    "| Not Cofee |94 |4843 |4937 |\n",
    "| Sum(col) | 318| 9147| 9465|"
   ]
  },
  {
   "attachments": {},
   "cell_type": "markdown",
   "id": "d488639d",
   "metadata": {},
   "source": [
    "我们按照如下公式计算 $ Lift $:\n",
    "$$\n",
    "    lift = \\frac{P(A \\cup B)}{P(A) * P(B)}\n",
    "$$\n",
    "\n",
    "计算结果如下：\n",
    "$$\n",
    "    \\left\\{\n",
    "        \\begin{align*}\n",
    "        &lift(T,C) = \\frac{224/9465}{318/9465*4528/9465} = 1.47 \\\\\n",
    "        &lift(T,\\neg C) = \\frac{94/9465}{318/9465*4937/9465} = 0.57\n",
    "        \\end{align*}\n",
    "    \\right.\n",
    "$$\n",
    "\n",
    "=> 从上述数据来看，推论 $ 用户购买 Toast \\Rightarrow 用户还会购买 Coffee $ 是较为合理的。"
   ]
  },
  {
   "attachments": {},
   "cell_type": "markdown",
   "id": "bedc5d1e",
   "metadata": {},
   "source": [
    "### 3.2 Imbalance Ratio\n",
    "\n",
    "我们按照如下公式计算 Imbalance Ratio：\n",
    "$$\n",
    "    IR(A,B) = \\frac{\\left| sup(A) - sup(B) \\right|}{sup(A) + sup(B) - sup(A \\cup B)}\n",
    "$$"
   ]
  },
  {
   "cell_type": "code",
   "execution_count": 95,
   "id": "f309c05b",
   "metadata": {},
   "outputs": [
    {
     "name": "stdout",
     "output_type": "stream",
     "text": [
      "sup(Toast) = 3.3597464342313788\n",
      "sup(Coffet) = 47.839408346539884\n",
      "sup(T&C) = 2.3666138404648707\n",
      "------------------------------\n",
      "IR(T,C) = 0.9108610990913026\n"
     ]
    }
   ],
   "source": [
    "# 获取所需的 support 值\n",
    "sup_T = t_1_70.support_hash[frozenset({'Toast'})]\n",
    "sup_C = t_1_70.support_hash[frozenset({'Coffee'})]\n",
    "sup_TC = t_1_70.support_hash[frozenset({'Toast','Coffee'})]\n",
    "\n",
    "print(\"sup(Toast) =\", sup_T)\n",
    "print(\"sup(Coffet) =\",sup_C )\n",
    "print(\"sup(T&C) =\", sup_TC)\n",
    "\n",
    "# 计算 IR\n",
    "ir = abs(sup_T-sup_C)/(sup_T+sup_C-sup_TC)\n",
    "print(\"------------------------------\")\n",
    "print(\"IR(T,C) =\", ir)"
   ]
  },
  {
   "attachments": {},
   "cell_type": "markdown",
   "id": "629edcc3",
   "metadata": {},
   "source": [
    "=> 可以看出非常的不平衡（救命）"
   ]
  },
  {
   "attachments": {},
   "cell_type": "markdown",
   "id": "32937183",
   "metadata": {},
   "source": [
    "### 3.3 模式应用建议\n",
    "\n",
    "从上面的分析中可以看出，客户在网上订购 Toast 后同时购买 Coffee 的模式是较为频繁的：\n",
    "\n",
    "- 从交互设计角度：我们可以使点单页面中 Toast & Coffee 的选项卡连续，方便用户操作\n",
    "\n",
    "- 从促销角度：\n",
    "\n",
    "    - 我们可以在用户将 Toast 类产品添加至购物车时，弹出 Coffee 的优惠弹窗，提高对应的销量\n",
    "\n",
    "    - 退出 Toast + Coffee 的捆绑销售套餐"
   ]
  }
 ],
 "metadata": {
  "kernelspec": {
   "display_name": "Python 3 (ipykernel)",
   "language": "python",
   "name": "python3"
  },
  "language_info": {
   "codemirror_mode": {
    "name": "ipython",
    "version": 3
   },
   "file_extension": ".py",
   "mimetype": "text/x-python",
   "name": "python",
   "nbconvert_exporter": "python",
   "pygments_lexer": "ipython3",
   "version": "3.9.6"
  }
 },
 "nbformat": 4,
 "nbformat_minor": 5
}
